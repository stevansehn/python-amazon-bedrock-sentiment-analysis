{
  "nbformat": 4,
  "nbformat_minor": 0,
  "metadata": {
    "colab": {
      "provenance": [],
      "authorship_tag": "ABX9TyN+SCfA5khBeIu+AWj2gWZr",
      "include_colab_link": true
    },
    "kernelspec": {
      "name": "python3",
      "display_name": "Python 3"
    },
    "language_info": {
      "name": "python"
    }
  },
  "cells": [
    {
      "cell_type": "markdown",
      "metadata": {
        "id": "view-in-github",
        "colab_type": "text"
      },
      "source": [
        "<a href=\"https://colab.research.google.com/github/stevansehn/python-amazon-bedrock-sentiment-analysis/blob/main/amazon_bedrock_sentiment_analysis.ipynb\" target=\"_parent\"><img src=\"https://colab.research.google.com/assets/colab-badge.svg\" alt=\"Open In Colab\"/></a>"
      ]
    },
    {
      "cell_type": "code",
      "execution_count": 1,
      "metadata": {
        "colab": {
          "base_uri": "https://localhost:8080/"
        },
        "id": "Zx30wpWwqu5q",
        "outputId": "ff840a14-7df6-4b37-a7c6-a5831b0018bd"
      },
      "outputs": [
        {
          "output_type": "stream",
          "name": "stdout",
          "text": [
            "Requirement already satisfied: boto3 in /usr/local/lib/python3.10/dist-packages (1.35.8)\n",
            "Requirement already satisfied: botocore<1.36.0,>=1.35.8 in /usr/local/lib/python3.10/dist-packages (from boto3) (1.35.8)\n",
            "Requirement already satisfied: jmespath<2.0.0,>=0.7.1 in /usr/local/lib/python3.10/dist-packages (from boto3) (1.0.1)\n",
            "Requirement already satisfied: s3transfer<0.11.0,>=0.10.0 in /usr/local/lib/python3.10/dist-packages (from boto3) (0.10.2)\n",
            "Requirement already satisfied: python-dateutil<3.0.0,>=2.1 in /usr/local/lib/python3.10/dist-packages (from botocore<1.36.0,>=1.35.8->boto3) (2.8.2)\n",
            "Requirement already satisfied: urllib3!=2.2.0,<3,>=1.25.4 in /usr/local/lib/python3.10/dist-packages (from botocore<1.36.0,>=1.35.8->boto3) (2.0.7)\n",
            "Requirement already satisfied: six>=1.5 in /usr/local/lib/python3.10/dist-packages (from python-dateutil<3.0.0,>=2.1->botocore<1.36.0,>=1.35.8->boto3) (1.16.0)\n"
          ]
        }
      ],
      "source": [
        "!pip install boto3"
      ]
    },
    {
      "cell_type": "code",
      "source": [
        "from google.colab import drive\n",
        "import os\n",
        "import boto3\n",
        "\n",
        "drive.mount('/content/drive')\n",
        "\n",
        "credentials_path = '/content/drive/MyDrive/APIKeys/amazon-bedrock-user-credentials.txt'\n",
        "\n",
        "with open(credentials_path) as f:\n",
        "    content = f.read().strip()\n",
        "\n",
        "lines = content.split('\\n')\n",
        "\n",
        "if len(lines) == 2:\n",
        "    aws_access_key_id = lines[0].strip()\n",
        "    aws_secret_access_key = lines[1].strip()\n",
        "else:\n",
        "    raise ValueError(\"Credentials file must contain exactly two lines: access key and secret key.\")"
      ],
      "metadata": {
        "colab": {
          "base_uri": "https://localhost:8080/"
        },
        "id": "dMmXd70Ptg__",
        "outputId": "a57003ca-6fde-4dce-e4c4-2da42168463c"
      },
      "execution_count": 2,
      "outputs": [
        {
          "output_type": "stream",
          "name": "stdout",
          "text": [
            "Drive already mounted at /content/drive; to attempt to forcibly remount, call drive.mount(\"/content/drive\", force_remount=True).\n"
          ]
        }
      ]
    },
    {
      "cell_type": "code",
      "source": [
        "os.environ['AWS_ACCESS_KEY_ID'] = aws_access_key_id\n",
        "os.environ['AWS_SECRET_ACCESS_KEY'] = aws_secret_access_key\n",
        "\n",
        "client = boto3.client(\"bedrock-runtime\", region_name=\"us-east-1\")\n",
        "\n",
        "model_id = \"amazon.titan-text-express-v1\"\n",
        "\n",
        "user_message = \"\"\"\n",
        "Meeting transcript:\n",
        "Miguel: Hi Brant, I want to discuss the workstream  for our new product launch\n",
        "Brant: Sure Miguel, is there anything in particular you want to discuss?\n",
        "Miguel: Yes, I want to talk about how users enter into the product.\n",
        "Brant: Ok, in that case let me add in Namita.\n",
        "Namita: Hey everyone\n",
        "Brant: Hi Namita, Miguel wants to discuss how users enter into the product.\n",
        "Miguel: its too complicated and we should remove friction.  for example, why do I need to fill out additional forms?  I also find it difficult to find where to access the product when I first land on the landing page.\n",
        "Brant: I would also add that I think there are too many steps.\n",
        "Namita: Ok, I can work on the landing page to make the product more discoverable but brant can you work on the additonal forms?\n",
        "Brant: Yes but I would need to work with James from another team as he needs to unblock the sign up workflow.  Miguel can you document any other concerns so that I can discuss with James only once?\n",
        "Miguel: Sure.\n",
        "From the meeting transcript above, analyze the sentiments of each character in the conversation.\n",
        "\"\"\"\n",
        "\n",
        "conversation = [\n",
        "    {\n",
        "        \"role\": \"user\",\n",
        "        \"content\": [{\"text\": user_message}],\n",
        "    }\n",
        "]\n",
        "\n",
        "try:\n",
        "    response = client.converse(\n",
        "        modelId=model_id,\n",
        "        messages=conversation,\n",
        "        inferenceConfig={\"maxTokens\":4096,\"stopSequences\":[\"User:\"],\"temperature\":0,\"topP\":1},\n",
        "        additionalModelRequestFields={}\n",
        "    )\n",
        "\n",
        "    response_text = response[\"output\"][\"message\"][\"content\"][0][\"text\"]\n",
        "    print(response_text)\n",
        "\n",
        "except Exception as e:\n",
        "    print(f\"ERROR: Can't invoke '{model_id}'. Reason: {e}\")"
      ],
      "metadata": {
        "colab": {
          "base_uri": "https://localhost:8080/"
        },
        "id": "aB-AlL7Yqzun",
        "outputId": "d852f388-a183-460e-c885-be5b58a5e483"
      },
      "execution_count": 3,
      "outputs": [
        {
          "output_type": "stream",
          "name": "stdout",
          "text": [
            "Miguel: Miguel is frustrated with the complexity of the user onboarding process and wants to remove friction. He also finds it difficult to find the product when he first lands on the landing page.\n",
            "\n",
            "Brant: Brant agrees that the user onboarding process is too complicated and suggests adding Namita to the conversation.\n",
            "\n",
            "Namita: Namita agrees that the user onboarding process is too complicated and suggests making the product more discoverable on the landing page. She also suggests that Brant work on the additional forms, but Brant needs to work with James from another team to unblock the sign-up workflow.\n",
            "\n",
            "Brant: Brant agrees that the user onboarding process is too complicated and suggests making the product more discoverable on the landing page. He also suggests that Miguel document any other concerns so that he can discuss with James only once.\n",
            "\n",
            "Miguel: Miguel agrees that the user onboarding process is too complicated and suggests making the product more discoverable on the landing page. He also suggests that Brant work on the additional forms, but Brant needs to work with James from another team to unblock the sign-up workflow.\n"
          ]
        }
      ]
    }
  ]
}